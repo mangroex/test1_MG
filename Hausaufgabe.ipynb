{
  "nbformat": 4,
  "nbformat_minor": 0,
  "metadata": {
    "colab": {
      "provenance": [],
      "collapsed_sections": [],
      "include_colab_link": true
    },
    "kernelspec": {
      "name": "python3",
      "display_name": "Python 3"
    },
    "language_info": {
      "name": "python"
    }
  },
  "cells": [
    {
      "cell_type": "markdown",
      "metadata": {
        "id": "view-in-github",
        "colab_type": "text"
      },
      "source": [
        "<a href=\"https://colab.research.google.com/github/mangroex/test1_MG/blob/main/Hausaufgabe.ipynb\" target=\"_parent\"><img src=\"https://colab.research.google.com/assets/colab-badge.svg\" alt=\"Open In Colab\"/></a>"
      ]
    },
    {
      "cell_type": "code",
      "source": [
        "from google.colab import files\n",
        "from google.colab import drive\n",
        "import pandas as pd\n",
        "import requests\n",
        "from io import StringIO"
      ],
      "metadata": {
        "id": "CdD2NG0ZxqTz"
      },
      "execution_count": 4,
      "outputs": []
    },
    {
      "cell_type": "markdown",
      "source": [
        "**Author: Alexander Kollmann, 08/2022**\n",
        "\n",
        "---\n",
        "\n",
        "**Funktion**\n",
        "\n",
        "Dataframe als CSV schreiben\n",
        "\n",
        "CSV als Dataframe lesen\n",
        "\n",
        "---\n",
        "\n",
        "**Referenzen**\n",
        "\n",
        "https://cyublog.com/articles/python-en/colab-pandas-three-ways-to-save-dataframe-data/\n",
        "\n",
        "https://www.shanelynn.ie/python-pandas-read-csv-load-data-from-csv-files/\n",
        "\n",
        "https://iq.opengenus.org/google-colab/\n",
        "\n",
        "https://pandas.pydata.org/pandas-docs/stable/reference/api/pandas.read_csv.html\n",
        "\n",
        "---\n",
        "\n"
      ],
      "metadata": {
        "id": "4Ba6v0iH9uUI"
      }
    },
    {
      "cell_type": "markdown",
      "source": [
        "# Schreiben von CSV-Dateien"
      ],
      "metadata": {
        "id": "2hsMHuvU_SeW"
      }
    },
    {
      "cell_type": "code",
      "source": [
        "# Test Dataframe erstellen mit Zahlen, Text und Umlauten bzw. Sonderzeichen\n",
        "data = {\n",
        "  \"calories\": [1, 2, 3],\n",
        "  \"duration\": [4, 5, 6],\n",
        "  \"info\": ['test1', 'test2', 'test3'],\n",
        "  \"uml\": ['äest4', 'Üest5', 'test6ßßßßß']\n",
        "}\n",
        "\n",
        "df = pd.DataFrame(data)"
      ],
      "metadata": {
        "id": "ibt-7KHbwiYE"
      },
      "execution_count": null,
      "outputs": []
    },
    {
      "cell_type": "code",
      "source": [
        "# Dataframe in CSV umwandeln und Datei runter laden\n",
        "# Achtung: mit mit Excel kann es zu Problemen mit der Datstellung der Umlaute kommen\n",
        "\n",
        "df.to_csv('output.csv', encoding = 'utf-8', index=False) \n",
        "files.download('output.csv')"
      ],
      "metadata": {
        "id": "drxAqRfpld6L",
        "colab": {
          "base_uri": "https://localhost:8080/",
          "height": 34
        },
        "outputId": "668208a4-dc8f-4403-8c21-de75b9157bbe"
      },
      "execution_count": null,
      "outputs": [
        {
          "output_type": "display_data",
          "data": {
            "text/plain": [
              "<IPython.core.display.Javascript object>"
            ],
            "application/javascript": [
              "\n",
              "    async function download(id, filename, size) {\n",
              "      if (!google.colab.kernel.accessAllowed) {\n",
              "        return;\n",
              "      }\n",
              "      const div = document.createElement('div');\n",
              "      const label = document.createElement('label');\n",
              "      label.textContent = `Downloading \"${filename}\": `;\n",
              "      div.appendChild(label);\n",
              "      const progress = document.createElement('progress');\n",
              "      progress.max = size;\n",
              "      div.appendChild(progress);\n",
              "      document.body.appendChild(div);\n",
              "\n",
              "      const buffers = [];\n",
              "      let downloaded = 0;\n",
              "\n",
              "      const channel = await google.colab.kernel.comms.open(id);\n",
              "      // Send a message to notify the kernel that we're ready.\n",
              "      channel.send({})\n",
              "\n",
              "      for await (const message of channel.messages) {\n",
              "        // Send a message to notify the kernel that we're ready.\n",
              "        channel.send({})\n",
              "        if (message.buffers) {\n",
              "          for (const buffer of message.buffers) {\n",
              "            buffers.push(buffer);\n",
              "            downloaded += buffer.byteLength;\n",
              "            progress.value = downloaded;\n",
              "          }\n",
              "        }\n",
              "      }\n",
              "      const blob = new Blob(buffers, {type: 'application/binary'});\n",
              "      const a = document.createElement('a');\n",
              "      a.href = window.URL.createObjectURL(blob);\n",
              "      a.download = filename;\n",
              "      div.appendChild(a);\n",
              "      a.click();\n",
              "      div.remove();\n",
              "    }\n",
              "  "
            ]
          },
          "metadata": {}
        },
        {
          "output_type": "display_data",
          "data": {
            "text/plain": [
              "<IPython.core.display.Javascript object>"
            ],
            "application/javascript": [
              "download(\"download_16b78890-7f4e-49a7-ad58-db0790e0c532\", \"output.csv\", 87)"
            ]
          },
          "metadata": {}
        }
      ]
    },
    {
      "cell_type": "code",
      "source": [
        "#  Dataframe in CSV umwandeln und in Google Drive speichern \n",
        "drive.mount('/content/drive/', force_remount=True)\n",
        "path = '/content/drive/MyDrive/data/output.csv'\n",
        "\n",
        "df.to_csv(path, sep=';', encoding='utf-8', index = False)"
      ],
      "metadata": {
        "id": "gFaX0tV8zYm8"
      },
      "execution_count": null,
      "outputs": []
    },
    {
      "cell_type": "markdown",
      "source": [
        "# Lesen von CSV-Dateien"
      ],
      "metadata": {
        "id": "fGu4bEP7WRUL"
      }
    },
    {
      "cell_type": "code",
      "source": [
        "# Datei von Google Drive lesen (Wichtig: die Datei muss freigegeben werden)\n",
        "\n",
        "url='https://drive.google.com/file/d/132SKFpDRX4qfi2XBf_qWXJC9VdKVtKkY/view?usp=sharing'\n",
        "\n",
        "file_id=url.split('/')[-2]\n",
        "dwn_url='https://drive.google.com/uc?id=' + file_id\n",
        "df = pd.read_csv(dwn_url, sep=';')\n",
        "print(df.head())"
      ],
      "metadata": {
        "id": "9xQiiChjojdu"
      },
      "execution_count": null,
      "outputs": []
    },
    {
      "cell_type": "code",
      "source": [
        "# Datei von einer URL lesen - z.B. COVID-19 Schutzimpfungen - Ausgelieferte und bestellte Impfdosen\n",
        "# Datei in Dataframe umwandeln\n",
        "\n",
        "url = 'https://info.gesundheitsministerium.gv.at/data/timeline-faelle-ems.csv'\n",
        "df = pd.read_csv(url, sep=';')"
      ],
      "metadata": {
        "id": "iYWKHOfS_uoa"
      },
      "execution_count": 5,
      "outputs": []
    },
    {
      "cell_type": "code",
      "source": [
        "# Dataframe anzeigen\n",
        "df.head()"
      ],
      "metadata": {
        "id": "e_GARcPx2f-_",
        "colab": {
          "base_uri": "https://localhost:8080/",
          "height": 204
        },
        "outputId": "0dbd630c-42a1-42db-c6c6-43c78579b6aa"
      },
      "execution_count": 6,
      "outputs": [
        {
          "output_type": "execute_result",
          "data": {
            "text/plain": [
              "                       Datum  BundeslandID              Name  \\\n",
              "0  2021-03-01T08:00:00+01:00             1        Burgenland   \n",
              "1  2021-03-01T08:00:00+01:00             2           Kärnten   \n",
              "2  2021-03-01T08:00:00+01:00             3  Niederösterreich   \n",
              "3  2021-03-01T08:00:00+01:00             4    Oberösterreich   \n",
              "4  2021-03-01T08:00:00+01:00             5          Salzburg   \n",
              "\n",
              "   BestaetigteFaelleEMS  \n",
              "0                 12375  \n",
              "1                 29226  \n",
              "2                 72922  \n",
              "3                 86410  \n",
              "4                 37902  "
            ],
            "text/html": [
              "\n",
              "  <div id=\"df-91eb5fef-e654-4fe3-933c-782c93ce20e5\">\n",
              "    <div class=\"colab-df-container\">\n",
              "      <div>\n",
              "<style scoped>\n",
              "    .dataframe tbody tr th:only-of-type {\n",
              "        vertical-align: middle;\n",
              "    }\n",
              "\n",
              "    .dataframe tbody tr th {\n",
              "        vertical-align: top;\n",
              "    }\n",
              "\n",
              "    .dataframe thead th {\n",
              "        text-align: right;\n",
              "    }\n",
              "</style>\n",
              "<table border=\"1\" class=\"dataframe\">\n",
              "  <thead>\n",
              "    <tr style=\"text-align: right;\">\n",
              "      <th></th>\n",
              "      <th>Datum</th>\n",
              "      <th>BundeslandID</th>\n",
              "      <th>Name</th>\n",
              "      <th>BestaetigteFaelleEMS</th>\n",
              "    </tr>\n",
              "  </thead>\n",
              "  <tbody>\n",
              "    <tr>\n",
              "      <th>0</th>\n",
              "      <td>2021-03-01T08:00:00+01:00</td>\n",
              "      <td>1</td>\n",
              "      <td>Burgenland</td>\n",
              "      <td>12375</td>\n",
              "    </tr>\n",
              "    <tr>\n",
              "      <th>1</th>\n",
              "      <td>2021-03-01T08:00:00+01:00</td>\n",
              "      <td>2</td>\n",
              "      <td>Kärnten</td>\n",
              "      <td>29226</td>\n",
              "    </tr>\n",
              "    <tr>\n",
              "      <th>2</th>\n",
              "      <td>2021-03-01T08:00:00+01:00</td>\n",
              "      <td>3</td>\n",
              "      <td>Niederösterreich</td>\n",
              "      <td>72922</td>\n",
              "    </tr>\n",
              "    <tr>\n",
              "      <th>3</th>\n",
              "      <td>2021-03-01T08:00:00+01:00</td>\n",
              "      <td>4</td>\n",
              "      <td>Oberösterreich</td>\n",
              "      <td>86410</td>\n",
              "    </tr>\n",
              "    <tr>\n",
              "      <th>4</th>\n",
              "      <td>2021-03-01T08:00:00+01:00</td>\n",
              "      <td>5</td>\n",
              "      <td>Salzburg</td>\n",
              "      <td>37902</td>\n",
              "    </tr>\n",
              "  </tbody>\n",
              "</table>\n",
              "</div>\n",
              "      <button class=\"colab-df-convert\" onclick=\"convertToInteractive('df-91eb5fef-e654-4fe3-933c-782c93ce20e5')\"\n",
              "              title=\"Convert this dataframe to an interactive table.\"\n",
              "              style=\"display:none;\">\n",
              "        \n",
              "  <svg xmlns=\"http://www.w3.org/2000/svg\" height=\"24px\"viewBox=\"0 0 24 24\"\n",
              "       width=\"24px\">\n",
              "    <path d=\"M0 0h24v24H0V0z\" fill=\"none\"/>\n",
              "    <path d=\"M18.56 5.44l.94 2.06.94-2.06 2.06-.94-2.06-.94-.94-2.06-.94 2.06-2.06.94zm-11 1L8.5 8.5l.94-2.06 2.06-.94-2.06-.94L8.5 2.5l-.94 2.06-2.06.94zm10 10l.94 2.06.94-2.06 2.06-.94-2.06-.94-.94-2.06-.94 2.06-2.06.94z\"/><path d=\"M17.41 7.96l-1.37-1.37c-.4-.4-.92-.59-1.43-.59-.52 0-1.04.2-1.43.59L10.3 9.45l-7.72 7.72c-.78.78-.78 2.05 0 2.83L4 21.41c.39.39.9.59 1.41.59.51 0 1.02-.2 1.41-.59l7.78-7.78 2.81-2.81c.8-.78.8-2.07 0-2.86zM5.41 20L4 18.59l7.72-7.72 1.47 1.35L5.41 20z\"/>\n",
              "  </svg>\n",
              "      </button>\n",
              "      \n",
              "  <style>\n",
              "    .colab-df-container {\n",
              "      display:flex;\n",
              "      flex-wrap:wrap;\n",
              "      gap: 12px;\n",
              "    }\n",
              "\n",
              "    .colab-df-convert {\n",
              "      background-color: #E8F0FE;\n",
              "      border: none;\n",
              "      border-radius: 50%;\n",
              "      cursor: pointer;\n",
              "      display: none;\n",
              "      fill: #1967D2;\n",
              "      height: 32px;\n",
              "      padding: 0 0 0 0;\n",
              "      width: 32px;\n",
              "    }\n",
              "\n",
              "    .colab-df-convert:hover {\n",
              "      background-color: #E2EBFA;\n",
              "      box-shadow: 0px 1px 2px rgba(60, 64, 67, 0.3), 0px 1px 3px 1px rgba(60, 64, 67, 0.15);\n",
              "      fill: #174EA6;\n",
              "    }\n",
              "\n",
              "    [theme=dark] .colab-df-convert {\n",
              "      background-color: #3B4455;\n",
              "      fill: #D2E3FC;\n",
              "    }\n",
              "\n",
              "    [theme=dark] .colab-df-convert:hover {\n",
              "      background-color: #434B5C;\n",
              "      box-shadow: 0px 1px 3px 1px rgba(0, 0, 0, 0.15);\n",
              "      filter: drop-shadow(0px 1px 2px rgba(0, 0, 0, 0.3));\n",
              "      fill: #FFFFFF;\n",
              "    }\n",
              "  </style>\n",
              "\n",
              "      <script>\n",
              "        const buttonEl =\n",
              "          document.querySelector('#df-91eb5fef-e654-4fe3-933c-782c93ce20e5 button.colab-df-convert');\n",
              "        buttonEl.style.display =\n",
              "          google.colab.kernel.accessAllowed ? 'block' : 'none';\n",
              "\n",
              "        async function convertToInteractive(key) {\n",
              "          const element = document.querySelector('#df-91eb5fef-e654-4fe3-933c-782c93ce20e5');\n",
              "          const dataTable =\n",
              "            await google.colab.kernel.invokeFunction('convertToInteractive',\n",
              "                                                     [key], {});\n",
              "          if (!dataTable) return;\n",
              "\n",
              "          const docLinkHtml = 'Like what you see? Visit the ' +\n",
              "            '<a target=\"_blank\" href=https://colab.research.google.com/notebooks/data_table.ipynb>data table notebook</a>'\n",
              "            + ' to learn more about interactive tables.';\n",
              "          element.innerHTML = '';\n",
              "          dataTable['output_type'] = 'display_data';\n",
              "          await google.colab.output.renderOutput(dataTable, element);\n",
              "          const docLink = document.createElement('div');\n",
              "          docLink.innerHTML = docLinkHtml;\n",
              "          element.appendChild(docLink);\n",
              "        }\n",
              "      </script>\n",
              "    </div>\n",
              "  </div>\n",
              "  "
            ]
          },
          "metadata": {},
          "execution_count": 6
        }
      ]
    }
  ]
}